{
  "cells": [
    {
      "cell_type": "markdown",
      "metadata": {
        "id": "view-in-github",
        "colab_type": "text"
      },
      "source": [
        "<a href=\"https://colab.research.google.com/github/emiliomercuri/hidrologia/blob/main/notebooks/Mein_Larson_Tempo_de_Empoc%CC%A7amento_%2B_Modelo_Green_Ampt.ipynb\" target=\"_parent\"><img src=\"https://colab.research.google.com/assets/colab-badge.svg\" alt=\"Open In Colab\"/></a>"
      ]
    },
    {
      "cell_type": "markdown",
      "metadata": {
        "id": "s8viE3GkovM-"
      },
      "source": [
        "# Método de Mein e Larson (1973)\n",
        "\n",
        "## Exemplo da Aplicação do Modelo de Green-Ampt com tempo de empoçamento\n",
        "\n",
        "Calcular $f(t)$ e $F(t)$ após 1 hora de precipitação de 5 cm/h em solo argiloso. \n",
        "\n",
        "Dados:\n",
        "\n",
        "* saturação efetiva inicial $s_e = 0.30$\n",
        "* porosidade efetiva $\\theta_e = 0.486$\n",
        "* carga de sucção $\\psi = 16.7$ cm\n",
        "* condutividade hidráulica saturada $K = 0.65$ cm/h\n",
        "\n",
        "Do exemplo 1 sabemos que nesse caso $t_p = 0.17$ h e $F_p = 0.85$ cm."
      ]
    },
    {
      "cell_type": "code",
      "execution_count": null,
      "metadata": {
        "id": "RCACJ0G5thxw"
      },
      "outputs": [],
      "source": [
        "import numpy"
      ]
    },
    {
      "cell_type": "code",
      "execution_count": null,
      "metadata": {
        "id": "fCzxyzKttkGe"
      },
      "outputs": [],
      "source": [
        "#numpy.log?"
      ]
    },
    {
      "cell_type": "code",
      "execution_count": null,
      "metadata": {
        "id": "vTLXaGNeoq07"
      },
      "outputs": [],
      "source": [
        "## Definição de função para cálculo de F\n",
        "def funcao(F):\n",
        "  return 0.54 + 0.85 + 5.86*numpy.log((5.86+F)/(5.86+0.85))"
      ]
    },
    {
      "cell_type": "code",
      "execution_count": null,
      "metadata": {
        "colab": {
          "base_uri": "https://localhost:8080/"
        },
        "id": "moUvevAKtuft",
        "outputId": "e67cffec-e141-4ed7-edad-a38a001eb8d2"
      },
      "outputs": [
        {
          "output_type": "stream",
          "name": "stdout",
          "text": [
            "0 1.2126793606881614\n",
            "1 1.6984729384563582\n",
            "2 2.0877515275067497\n",
            "3 2.3820400501723755\n",
            "4 2.595102795429686\n",
            "5 2.7446631689382155\n",
            "6 2.847413258817394\n",
            "7 2.9169742498908455\n",
            "8 2.963602083799579\n",
            "9 2.9946510381927998\n",
            "10 3.0152353186161998\n",
            "11 3.0288421669682055\n",
            "12 3.0378194017277007\n",
            "13 3.0437346882984224\n",
            "14 3.047629132615468\n",
            "15 3.050191703824616\n",
            "16 3.0518772822718327\n",
            "17 3.0529857382808236\n",
            "18 3.0537145575950113\n",
            "19 3.0541937131440062\n",
            "20 3.0545087082040148\n",
            "21 3.054715775550613\n",
            "22 3.0548518907980524\n",
            "23 3.054941364122917\n",
            "24 3.0550001773324946\n",
            "25 3.055038836506707\n",
            "26 3.055064247865673\n",
            "27 3.055080951141347\n",
            "28 3.055091930434488\n",
            "29 3.055099147263875\n",
            "30 3.055103890973016\n",
            "31 3.055107009068251\n",
            "32 3.05510905862764\n",
            "33 3.0551104058258987\n",
            "34 3.05511129135418\n",
            "35 3.055111873421617\n",
            "36 3.055112256020887\n",
            "37 3.055112507507543\n",
            "38 3.0551126728124487\n",
            "39 3.055112781469151\n",
            "40 3.0551128528903773\n",
            "41 3.0551128998363213\n",
            "42 3.0551129306943965\n",
            "43 3.055112950977743\n",
            "44 3.0551129643102053\n",
            "45 3.055112973073777\n"
          ]
        }
      ],
      "source": [
        "tolerancia = 10**(-8)\n",
        "erro = 100\n",
        "\n",
        "# chute inicial: F = K*t\n",
        "F = 0.65\n",
        "\n",
        "i = 0\n",
        "while erro > tolerancia:\n",
        "  F_novo = funcao(F)\n",
        "  erro = abs(F_novo-F)\n",
        "  print(i, F_novo)\n",
        "  F = F_novo\n",
        "  i += 1\n"
      ]
    },
    {
      "cell_type": "code",
      "execution_count": null,
      "metadata": {
        "id": "J_Wcr9opvd-I"
      },
      "outputs": [],
      "source": [
        "delta_theta = 0.3402\n",
        "psi = 16.68 # cm\n",
        "K = 0.65 # cm/h"
      ]
    },
    {
      "cell_type": "code",
      "execution_count": null,
      "metadata": {
        "colab": {
          "base_uri": "https://localhost:8080/"
        },
        "id": "1eyeP2l-vuiL",
        "outputId": "8157bbb4-7263-47d3-aed8-ca0c175d79be"
      },
      "outputs": [
        {
          "output_type": "stream",
          "name": "stdout",
          "text": [
            "Infiltração acumulada após o tempo de empoçamento: 3.055112973073777 cm\n"
          ]
        }
      ],
      "source": [
        "print('Infiltração acumulada após o tempo de empoçamento:', F, 'cm')"
      ]
    },
    {
      "cell_type": "code",
      "execution_count": null,
      "metadata": {
        "colab": {
          "base_uri": "https://localhost:8080/"
        },
        "id": "gLNccAlKvUdL",
        "outputId": "58dc6417-db8d-4356-ac58-9180a7409764"
      },
      "outputs": [
        {
          "output_type": "stream",
          "name": "stdout",
          "text": [
            "1.8573034393517105 cm/h\n"
          ]
        }
      ],
      "source": [
        "# Taxa de infiltração\n",
        "f = K*(psi*delta_theta/F + 1)\n",
        "print(f, 'cm/h')"
      ]
    },
    {
      "cell_type": "markdown",
      "source": [
        "Na calculadora:\n",
        "\n",
        "1. programar o chute inicial: F = K*t = 0.65\n",
        "* 0.65 e aperta o igual. A resposta fica salva no ANS\n",
        "2. programar a equação:\n",
        "\n",
        "```\n",
        "1.39 + 5.86*numpy.log((5.86+ANS)/6.71)\n",
        "```\n",
        "3. continuar apertando o igual até convergir\n",
        "\n"
      ],
      "metadata": {
        "id": "cLETB1FmsDCd"
      }
    },
    {
      "cell_type": "code",
      "source": [],
      "metadata": {
        "id": "l9yqdASosoR9"
      },
      "execution_count": null,
      "outputs": []
    }
  ],
  "metadata": {
    "colab": {
      "provenance": [],
      "include_colab_link": true
    },
    "kernelspec": {
      "display_name": "Python 3",
      "name": "python3"
    },
    "language_info": {
      "name": "python"
    }
  },
  "nbformat": 4,
  "nbformat_minor": 0
}