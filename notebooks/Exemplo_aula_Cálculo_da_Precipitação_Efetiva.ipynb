{
  "nbformat": 4,
  "nbformat_minor": 0,
  "metadata": {
    "colab": {
      "provenance": [],
      "authorship_tag": "ABX9TyOsT2ThTN4gaLBEl8e2TqYt",
      "include_colab_link": true
    },
    "kernelspec": {
      "name": "python3",
      "display_name": "Python 3"
    },
    "language_info": {
      "name": "python"
    }
  },
  "cells": [
    {
      "cell_type": "markdown",
      "metadata": {
        "id": "view-in-github",
        "colab_type": "text"
      },
      "source": [
        "<a href=\"https://colab.research.google.com/github/emiliomercuri/hidrologia/blob/main/notebooks/Exemplo_aula_C%C3%A1lculo_da_Precipita%C3%A7%C3%A3o_Efetiva.ipynb\" target=\"_parent\"><img src=\"https://colab.research.google.com/assets/colab-badge.svg\" alt=\"Open In Colab\"/></a>"
      ]
    },
    {
      "cell_type": "markdown",
      "metadata": {
        "id": "BhzIY-AK6LrV"
      },
      "source": [
        "## Cálculo da Precipitação Efetiva (Excesso de Chuva)"
      ]
    },
    {
      "cell_type": "code",
      "metadata": {
        "id": "scXMyOSc6JZB"
      },
      "source": [
        "from matplotlib import pyplot as plt\n",
        "import matplotlib.dates as mdates\n",
        "import numpy\n",
        "import pandas\n",
        "%matplotlib inline  \n",
        "import warnings\n",
        "warnings.filterwarnings(\"ignore\")"
      ],
      "execution_count": 1,
      "outputs": []
    },
    {
      "cell_type": "markdown",
      "metadata": {
        "id": "VeNODBPx8Cwm"
      },
      "source": [
        "### Exercício\n",
        "\n",
        "A partir da chuva observada e dados de vazão fornecidos na Tabela abaixo, determine:\n",
        "\n",
        "1. o hidrograma de escoamento direto (Runoff)\n",
        "2. o índice $\\phi$ e \n",
        "3. o hietograma de precipitação efetiva\n",
        "\n",
        "A área da bacia hidrográfica é de 4 km$^2$."
      ]
    },
    {
      "cell_type": "markdown",
      "metadata": {
        "id": "_JECYy9wEr-y"
      },
      "source": [
        "## Leitura dos dados"
      ]
    },
    {
      "cell_type": "code",
      "metadata": {
        "colab": {
          "base_uri": "https://localhost:8080/",
          "height": 363
        },
        "id": "2m85cxw4_mcE",
        "outputId": "30ab4a44-9af6-4722-da32-d0c9d67d77ce"
      },
      "source": [
        "dateparse = lambda x: pandas.datetime.strptime(x, '%Y-%m-%d %H:%M')\n",
        "dados=pandas.read_csv('https://www.dropbox.com/s/obni3violih7625/tabela_ok.csv?dl=1',sep=';',date_parser=dateparse,index_col=0)\n",
        "dados"
      ],
      "execution_count": 2,
      "outputs": [
        {
          "output_type": "execute_result",
          "data": {
            "text/plain": [
              "                     Prec(mm)  Vazao(m3/s)\n",
              "Data-Hora                                 \n",
              "2020-05-24 20:30:00       NaN          9.0\n",
              "2020-05-24 21:00:00       3.8          8.5\n",
              "2020-05-24 21:30:00       6.6          8.0\n",
              "2020-05-24 22:00:00      33.8         23.4\n",
              "2020-05-24 22:30:00      55.9         65.8\n",
              "2020-05-24 23:00:00       8.0         51.0\n",
              "2020-05-24 23:30:00       NaN         22.6\n",
              "2020-05-25 00:00:00       NaN         10.0\n",
              "2020-05-25 00:30:00       NaN          7.5"
            ],
            "text/html": [
              "\n",
              "  <div id=\"df-b1a6b57f-3733-4458-bdc7-43ac54b9e886\">\n",
              "    <div class=\"colab-df-container\">\n",
              "      <div>\n",
              "<style scoped>\n",
              "    .dataframe tbody tr th:only-of-type {\n",
              "        vertical-align: middle;\n",
              "    }\n",
              "\n",
              "    .dataframe tbody tr th {\n",
              "        vertical-align: top;\n",
              "    }\n",
              "\n",
              "    .dataframe thead th {\n",
              "        text-align: right;\n",
              "    }\n",
              "</style>\n",
              "<table border=\"1\" class=\"dataframe\">\n",
              "  <thead>\n",
              "    <tr style=\"text-align: right;\">\n",
              "      <th></th>\n",
              "      <th>Prec(mm)</th>\n",
              "      <th>Vazao(m3/s)</th>\n",
              "    </tr>\n",
              "    <tr>\n",
              "      <th>Data-Hora</th>\n",
              "      <th></th>\n",
              "      <th></th>\n",
              "    </tr>\n",
              "  </thead>\n",
              "  <tbody>\n",
              "    <tr>\n",
              "      <th>2020-05-24 20:30:00</th>\n",
              "      <td>NaN</td>\n",
              "      <td>9.0</td>\n",
              "    </tr>\n",
              "    <tr>\n",
              "      <th>2020-05-24 21:00:00</th>\n",
              "      <td>3.8</td>\n",
              "      <td>8.5</td>\n",
              "    </tr>\n",
              "    <tr>\n",
              "      <th>2020-05-24 21:30:00</th>\n",
              "      <td>6.6</td>\n",
              "      <td>8.0</td>\n",
              "    </tr>\n",
              "    <tr>\n",
              "      <th>2020-05-24 22:00:00</th>\n",
              "      <td>33.8</td>\n",
              "      <td>23.4</td>\n",
              "    </tr>\n",
              "    <tr>\n",
              "      <th>2020-05-24 22:30:00</th>\n",
              "      <td>55.9</td>\n",
              "      <td>65.8</td>\n",
              "    </tr>\n",
              "    <tr>\n",
              "      <th>2020-05-24 23:00:00</th>\n",
              "      <td>8.0</td>\n",
              "      <td>51.0</td>\n",
              "    </tr>\n",
              "    <tr>\n",
              "      <th>2020-05-24 23:30:00</th>\n",
              "      <td>NaN</td>\n",
              "      <td>22.6</td>\n",
              "    </tr>\n",
              "    <tr>\n",
              "      <th>2020-05-25 00:00:00</th>\n",
              "      <td>NaN</td>\n",
              "      <td>10.0</td>\n",
              "    </tr>\n",
              "    <tr>\n",
              "      <th>2020-05-25 00:30:00</th>\n",
              "      <td>NaN</td>\n",
              "      <td>7.5</td>\n",
              "    </tr>\n",
              "  </tbody>\n",
              "</table>\n",
              "</div>\n",
              "      <button class=\"colab-df-convert\" onclick=\"convertToInteractive('df-b1a6b57f-3733-4458-bdc7-43ac54b9e886')\"\n",
              "              title=\"Convert this dataframe to an interactive table.\"\n",
              "              style=\"display:none;\">\n",
              "        \n",
              "  <svg xmlns=\"http://www.w3.org/2000/svg\" height=\"24px\"viewBox=\"0 0 24 24\"\n",
              "       width=\"24px\">\n",
              "    <path d=\"M0 0h24v24H0V0z\" fill=\"none\"/>\n",
              "    <path d=\"M18.56 5.44l.94 2.06.94-2.06 2.06-.94-2.06-.94-.94-2.06-.94 2.06-2.06.94zm-11 1L8.5 8.5l.94-2.06 2.06-.94-2.06-.94L8.5 2.5l-.94 2.06-2.06.94zm10 10l.94 2.06.94-2.06 2.06-.94-2.06-.94-.94-2.06-.94 2.06-2.06.94z\"/><path d=\"M17.41 7.96l-1.37-1.37c-.4-.4-.92-.59-1.43-.59-.52 0-1.04.2-1.43.59L10.3 9.45l-7.72 7.72c-.78.78-.78 2.05 0 2.83L4 21.41c.39.39.9.59 1.41.59.51 0 1.02-.2 1.41-.59l7.78-7.78 2.81-2.81c.8-.78.8-2.07 0-2.86zM5.41 20L4 18.59l7.72-7.72 1.47 1.35L5.41 20z\"/>\n",
              "  </svg>\n",
              "      </button>\n",
              "      \n",
              "  <style>\n",
              "    .colab-df-container {\n",
              "      display:flex;\n",
              "      flex-wrap:wrap;\n",
              "      gap: 12px;\n",
              "    }\n",
              "\n",
              "    .colab-df-convert {\n",
              "      background-color: #E8F0FE;\n",
              "      border: none;\n",
              "      border-radius: 50%;\n",
              "      cursor: pointer;\n",
              "      display: none;\n",
              "      fill: #1967D2;\n",
              "      height: 32px;\n",
              "      padding: 0 0 0 0;\n",
              "      width: 32px;\n",
              "    }\n",
              "\n",
              "    .colab-df-convert:hover {\n",
              "      background-color: #E2EBFA;\n",
              "      box-shadow: 0px 1px 2px rgba(60, 64, 67, 0.3), 0px 1px 3px 1px rgba(60, 64, 67, 0.15);\n",
              "      fill: #174EA6;\n",
              "    }\n",
              "\n",
              "    [theme=dark] .colab-df-convert {\n",
              "      background-color: #3B4455;\n",
              "      fill: #D2E3FC;\n",
              "    }\n",
              "\n",
              "    [theme=dark] .colab-df-convert:hover {\n",
              "      background-color: #434B5C;\n",
              "      box-shadow: 0px 1px 3px 1px rgba(0, 0, 0, 0.15);\n",
              "      filter: drop-shadow(0px 1px 2px rgba(0, 0, 0, 0.3));\n",
              "      fill: #FFFFFF;\n",
              "    }\n",
              "  </style>\n",
              "\n",
              "      <script>\n",
              "        const buttonEl =\n",
              "          document.querySelector('#df-b1a6b57f-3733-4458-bdc7-43ac54b9e886 button.colab-df-convert');\n",
              "        buttonEl.style.display =\n",
              "          google.colab.kernel.accessAllowed ? 'block' : 'none';\n",
              "\n",
              "        async function convertToInteractive(key) {\n",
              "          const element = document.querySelector('#df-b1a6b57f-3733-4458-bdc7-43ac54b9e886');\n",
              "          const dataTable =\n",
              "            await google.colab.kernel.invokeFunction('convertToInteractive',\n",
              "                                                     [key], {});\n",
              "          if (!dataTable) return;\n",
              "\n",
              "          const docLinkHtml = 'Like what you see? Visit the ' +\n",
              "            '<a target=\"_blank\" href=https://colab.research.google.com/notebooks/data_table.ipynb>data table notebook</a>'\n",
              "            + ' to learn more about interactive tables.';\n",
              "          element.innerHTML = '';\n",
              "          dataTable['output_type'] = 'display_data';\n",
              "          await google.colab.output.renderOutput(dataTable, element);\n",
              "          const docLink = document.createElement('div');\n",
              "          docLink.innerHTML = docLinkHtml;\n",
              "          element.appendChild(docLink);\n",
              "        }\n",
              "      </script>\n",
              "    </div>\n",
              "  </div>\n",
              "  "
            ]
          },
          "metadata": {},
          "execution_count": 2
        }
      ]
    },
    {
      "cell_type": "markdown",
      "metadata": {
        "id": "WBZ4IyUDCPKq"
      },
      "source": [
        "## Gráfico Chuva-Vazão\n",
        "\n",
        "Pluviograma + Hidrógrafa"
      ]
    },
    {
      "cell_type": "code",
      "metadata": {
        "colab": {
          "base_uri": "https://localhost:8080/",
          "height": 386
        },
        "id": "d8MIuiM_6VfY",
        "outputId": "a929f7b9-4d0f-4c32-dbdd-8c5fcf0b454f"
      },
      "source": [
        "plt.gcf().autofmt_xdate()        \n",
        "fig, ax1 = plt.subplots(figsize=(10,4))\n",
        "ax1.plot(dados['Vazao(m3/s)'],color='green', marker='o', linestyle='dashed',linewidth=2.5, markersize=0.1, label = r'Vazão (m$^3$/s)')\n",
        "ax1.set_ylim(0,100)\n",
        "ax1.margins(0.0)\n",
        "ax1.tick_params(axis='both', labelsize=8) #increase font size for ticks\n",
        "ax1.set_ylabel(r'Vazão (m$^3$/s)', fontsize=10) #y label\n",
        "leg = plt.legend();\n",
        "plt.legend(bbox_to_anchor=(1.05, 0.9), loc='upper left', borderaxespad=0.,frameon=False)\n",
        "\n",
        "ax2 = ax1.twinx()\n",
        "ax2.margins(0.0)\n",
        "ax2.bar(dados.index,dados['Prec(mm)'], width=0.015, label = 'Precipitação (mm)')\n",
        "ax2.tick_params(axis='both', labelsize=8)\n",
        "ax2.set_ylabel('Precipitação (mm)', fontsize=10) #y label\n",
        "ax2.set_ylim(200,0)\n",
        "\n",
        "plt.tick_params(axis='both', labelsize=8) #increase font size for ticks\n",
        "plt.xticks(rotation=45)\n",
        "leg = plt.legend();\n",
        "plt.legend(bbox_to_anchor=(1.05, 1), loc='upper left', borderaxespad=0.,frameon=False)\n",
        "\n",
        "plt.savefig('chuva-vazao.png', dpi = 300, bbox_inches='tight')\n",
        "plt.show()"
      ],
      "execution_count": 61,
      "outputs": [
        {
          "output_type": "display_data",
          "data": {
            "text/plain": [
              "<Figure size 640x480 with 0 Axes>"
            ]
          },
          "metadata": {}
        },
        {
          "output_type": "display_data",
          "data": {
            "text/plain": [
              "<Figure size 1000x400 with 2 Axes>"
            ],
            "image/png": "[encoded data removed]"
          },
          "metadata": {}
        }
      ]
    },
    {
      "cell_type": "markdown",
      "metadata": {
        "id": "PsTfAM3GGejh"
      },
      "source": [
        "### Solução em 5 passos\n",
        "\n",
        "1. Estimativa do escoamento de base (EB)\n",
        "2. Cálculo do Escoamento Superficial Direto (ED)\n",
        "$$\n",
        "\\text{ED} = Q - \\text{EB}\n",
        "$$\n",
        "3. Cálculo do Volume $V_d$ e altura do Escoamento Superficial $r_d$\n",
        "$$\n",
        "V_{d}=\\sum_{n=1}^{N} Q_{n} \\Delta t\n",
        "$$\n",
        "$$\n",
        "r_{d}=\\frac{V_{d}}{\\text { área da bacia }}\n",
        "$$\n",
        "\n",
        "4. Estimativa das abstrações $\\phi$ (Infiltração e Armazenamento Superficial)\n",
        "$$\n",
        "r_{d}=\\sum_{m=1}^{M}\\left(R_{m}-\\phi \\Delta t\\right)\n",
        "$$\n",
        "\n",
        "5. Cálculo e gráfico do hietograma de precipitação efetiva\n",
        "\n"
      ]
    },
    {
      "cell_type": "markdown",
      "metadata": {
        "id": "U6027uCiHs7M"
      },
      "source": [
        "### 1. Estimativa do escoamento de base (EB)"
      ]
    },
    {
      "cell_type": "code",
      "metadata": {
        "colab": {
          "base_uri": "https://localhost:8080/",
          "height": 418
        },
        "id": "VJUU2x8cCh4Q",
        "outputId": "0bd6cc23-9899-442b-8b73-9daf5ce76bbc"
      },
      "source": [
        "plt.gcf().autofmt_xdate()      \n",
        "fig, ax1 = plt.subplots(figsize=(10,4))\n",
        "ax1.plot(dados['Vazao(m3/s)'],color='green', marker='o', linestyle='dashed',linewidth=0.5, markersize=0.1, label = r'Vazão (m$^3$/s)')\n",
        "ax1.plot(dados['Vazao(m3/s)'][2:3],color='green', marker='o',linewidth=0, markersize=4, label = 'A: Início curva ascenção')\n",
        "ax1.plot(dados['Vazao(m3/s)'][7:8],color='blue', marker='o',linewidth=0, markersize=4, label = 'B: Final escoamento direto')\n",
        "ax1.set_ylim(0,100)\n",
        "ax1.margins(0.0)\n",
        "ax1.tick_params(axis='both', labelsize=8) #increase font size for ticks\n",
        "ax1.set_ylabel(r'Vazão (m$^3$/s)', fontsize=10) #y label\n",
        "leg = plt.legend();\n",
        "plt.legend(bbox_to_anchor=(1.05, 0.9), loc='upper left', borderaxespad=0.,frameon=False)\n",
        "\n",
        "\n",
        "plt.tick_params(axis='both', labelsize=8) #increase font size for ticks\n",
        "plt.xticks(rotation=45)\n",
        "leg = plt.legend();\n",
        "plt.legend(bbox_to_anchor=(1.05, 1), loc='upper left', borderaxespad=0.,frameon=False)\n",
        "\n",
        "plt.savefig('vazao+eb.png', dpi = 300, bbox_inches='tight')\n",
        "plt.show()"
      ],
      "execution_count": 15,
      "outputs": [
        {
          "output_type": "display_data",
          "data": {
            "text/plain": [
              "<Figure size 640x480 with 0 Axes>"
            ]
          },
          "metadata": {}
        },
        {
          "output_type": "display_data",
          "data": {
            "text/plain": [
              "<Figure size 1000x400 with 1 Axes>"
            ],
            "image/png": "[encoded data removed]"
          },
          "metadata": {}
        }
      ]
    },
    {
      "cell_type": "code",
      "metadata": {
        "colab": {
          "base_uri": "https://localhost:8080/"
        },
        "id": "jN8YKX4QH_UR",
        "outputId": "73d00de3-8e10-4ee7-990a-d6d3f4f05fb3"
      },
      "source": [
        "print(r'Vazão A = ', dados['Vazao(m3/s)'][2:3].values, r'(m3/s)')\n",
        "print(r'Vazão B = ', dados['Vazao(m3/s)'][7:8].values, r'(m3/s)')"
      ],
      "execution_count": 23,
      "outputs": [
        {
          "output_type": "stream",
          "name": "stdout",
          "text": [
            "Vazão A =  [8.] (m3/s)\n",
            "Vazão B =  [10.] (m3/s)\n"
          ]
        }
      ]
    },
    {
      "cell_type": "markdown",
      "metadata": {
        "id": "mynOo2KwLKxd"
      },
      "source": [
        "Adotaremos um escoamento de base constante de 8 m$^3$/s."
      ]
    },
    {
      "cell_type": "code",
      "metadata": {
        "id": "G7gQ_GNSKd7h"
      },
      "source": [
        "EB = 8\n",
        "a_serie = dados['Vazao(m3/s)'][2:3]\n",
        "b_serie = dados['Vazao(m3/s)'][7:8]\n",
        "base = pandas.concat([a_serie, b_serie], axis=0)"
      ],
      "execution_count": 24,
      "outputs": []
    },
    {
      "cell_type": "code",
      "metadata": {
        "colab": {
          "base_uri": "https://localhost:8080/"
        },
        "id": "jbAArvLWKgPn",
        "outputId": "60b09f33-7750-4a17-842e-9f28e240a755"
      },
      "source": [
        "base[0] = EB\n",
        "base[1] = EB\n",
        "base"
      ],
      "execution_count": 25,
      "outputs": [
        {
          "output_type": "execute_result",
          "data": {
            "text/plain": [
              "Data-Hora\n",
              "2020-05-24 21:30:00    8.0\n",
              "2020-05-25 00:00:00    8.0\n",
              "Name: Vazao(m3/s), dtype: float64"
            ]
          },
          "metadata": {},
          "execution_count": 25
        }
      ]
    },
    {
      "cell_type": "code",
      "metadata": {
        "colab": {
          "base_uri": "https://localhost:8080/",
          "height": 726
        },
        "id": "dS8PVYTqLxTH",
        "outputId": "e8b547e8-f23d-480f-aa79-83665a568d2e"
      },
      "source": [
        "plt.gcf().autofmt_xdate()      \n",
        "#plt.ylim(-0.00005,0.00005) \n",
        "fig, ax1 = plt.subplots(figsize=(10,8))\n",
        "ax1.plot(dados['Vazao(m3/s)'],color='green', marker='o', linestyle='dashed',linewidth=0.5, markersize=0.1, label = r'Vazão (m$^3$/s)')\n",
        "ax1.plot(dados['Vazao(m3/s)'][2:3],color='green', marker='o',linewidth=0, markersize=4, label = 'A: Início curva ascenção')\n",
        "ax1.plot(dados['Vazao(m3/s)'][7:8],color='blue', marker='o',linewidth=0, markersize=4, label = 'B: Final escoamento direto')\n",
        "ax1.plot(base,color='blue', marker='o', linestyle='dashed',linewidth=0.5, markersize=0.1, label = 'Escoamento de base')\n",
        "\n",
        "ax1.set_ylim(0,100)\n",
        "ax1.margins(0.0)\n",
        "ax1.tick_params(axis='both', labelsize=8) #increase font size for ticks\n",
        "ax1.set_ylabel(r'Vazão (m$^3$/s)', fontsize=10) #y label\n",
        "leg = plt.legend();\n",
        "plt.legend(bbox_to_anchor=(1.05, 0.9), loc='upper left', borderaxespad=0.,frameon=False)\n",
        "\n",
        "\n",
        "plt.tick_params(axis='both', labelsize=8) #increase font size for ticks\n",
        "plt.xticks(rotation=45)\n",
        "leg = plt.legend();\n",
        "plt.legend(bbox_to_anchor=(1.05, 1), loc='upper left', borderaxespad=0.,frameon=False)\n",
        "\n",
        "plt.savefig('vazao+eb.png', dpi = 300, bbox_inches='tight')\n",
        "plt.show()"
      ],
      "execution_count": 28,
      "outputs": [
        {
          "output_type": "display_data",
          "data": {
            "text/plain": [
              "<Figure size 640x480 with 0 Axes>"
            ]
          },
          "metadata": {}
        },
        {
          "output_type": "display_data",
          "data": {
            "text/plain": [
              "<Figure size 1000x800 with 1 Axes>"
            ],
            "image/png": "[encoded data removed]"
          },
          "metadata": {}
        }
      ]
    },
    {
      "cell_type": "markdown",
      "metadata": {
        "id": "dwP8qvISNcLN"
      },
      "source": [
        "2. Cálculo e Gráfico do Escoamento Superficial Direto (ED)\n",
        "$$\n",
        "\\text{ED} = Q - \\text{EB}\n",
        "$$"
      ]
    },
    {
      "cell_type": "code",
      "metadata": {
        "id": "YlDTACvRMYxk"
      },
      "source": [
        "# somente iremos trabalhar com a parte do hidrograma que tem Precipitação Efetiva\n",
        "selecao = dados['2020-05-24 22:00:00':'2020-05-25 00:00:00':]\n",
        "selecao['ED(m3/s)'] = selecao['Vazao(m3/s)'] - EB"
      ],
      "execution_count": 38,
      "outputs": []
    },
    {
      "cell_type": "code",
      "metadata": {
        "colab": {
          "base_uri": "https://localhost:8080/",
          "height": 238
        },
        "id": "cRquS5baPExX",
        "outputId": "7abd5485-8b39-45fd-d9f8-532d1bc39740"
      },
      "source": [
        "selecao"
      ],
      "execution_count": 39,
      "outputs": [
        {
          "output_type": "execute_result",
          "data": {
            "text/plain": [
              "                     Prec(mm)  Vazao(m3/s)  ED(m3/s)\n",
              "Data-Hora                                           \n",
              "2020-05-24 22:00:00      33.8         23.4      15.4\n",
              "2020-05-24 22:30:00      55.9         65.8      57.8\n",
              "2020-05-24 23:00:00       8.0         51.0      43.0\n",
              "2020-05-24 23:30:00       NaN         22.6      14.6\n",
              "2020-05-25 00:00:00       NaN         10.0       2.0"
            ],
            "text/html": [
              "\n",
              "  <div id=\"df-28b6b82c-b3d0-43d3-8baf-acb817268447\">\n",
              "    <div class=\"colab-df-container\">\n",
              "      <div>\n",
              "<style scoped>\n",
              "    .dataframe tbody tr th:only-of-type {\n",
              "        vertical-align: middle;\n",
              "    }\n",
              "\n",
              "    .dataframe tbody tr th {\n",
              "        vertical-align: top;\n",
              "    }\n",
              "\n",
              "    .dataframe thead th {\n",
              "        text-align: right;\n",
              "    }\n",
              "</style>\n",
              "<table border=\"1\" class=\"dataframe\">\n",
              "  <thead>\n",
              "    <tr style=\"text-align: right;\">\n",
              "      <th></th>\n",
              "      <th>Prec(mm)</th>\n",
              "      <th>Vazao(m3/s)</th>\n",
              "      <th>ED(m3/s)</th>\n",
              "    </tr>\n",
              "    <tr>\n",
              "      <th>Data-Hora</th>\n",
              "      <th></th>\n",
              "      <th></th>\n",
              "      <th></th>\n",
              "    </tr>\n",
              "  </thead>\n",
              "  <tbody>\n",
              "    <tr>\n",
              "      <th>2020-05-24 22:00:00</th>\n",
              "      <td>33.8</td>\n",
              "      <td>23.4</td>\n",
              "      <td>15.4</td>\n",
              "    </tr>\n",
              "    <tr>\n",
              "      <th>2020-05-24 22:30:00</th>\n",
              "      <td>55.9</td>\n",
              "      <td>65.8</td>\n",
              "      <td>57.8</td>\n",
              "    </tr>\n",
              "    <tr>\n",
              "      <th>2020-05-24 23:00:00</th>\n",
              "      <td>8.0</td>\n",
              "      <td>51.0</td>\n",
              "      <td>43.0</td>\n",
              "    </tr>\n",
              "    <tr>\n",
              "      <th>2020-05-24 23:30:00</th>\n",
              "      <td>NaN</td>\n",
              "      <td>22.6</td>\n",
              "      <td>14.6</td>\n",
              "    </tr>\n",
              "    <tr>\n",
              "      <th>2020-05-25 00:00:00</th>\n",
              "      <td>NaN</td>\n",
              "      <td>10.0</td>\n",
              "      <td>2.0</td>\n",
              "    </tr>\n",
              "  </tbody>\n",
              "</table>\n",
              "</div>\n",
              "      <button class=\"colab-df-convert\" onclick=\"convertToInteractive('df-28b6b82c-b3d0-43d3-8baf-acb817268447')\"\n",
              "              title=\"Convert this dataframe to an interactive table.\"\n",
              "              style=\"display:none;\">\n",
              "        \n",
              "  <svg xmlns=\"http://www.w3.org/2000/svg\" height=\"24px\"viewBox=\"0 0 24 24\"\n",
              "       width=\"24px\">\n",
              "    <path d=\"M0 0h24v24H0V0z\" fill=\"none\"/>\n",
              "    <path d=\"M18.56 5.44l.94 2.06.94-2.06 2.06-.94-2.06-.94-.94-2.06-.94 2.06-2.06.94zm-11 1L8.5 8.5l.94-2.06 2.06-.94-2.06-.94L8.5 2.5l-.94 2.06-2.06.94zm10 10l.94 2.06.94-2.06 2.06-.94-2.06-.94-.94-2.06-.94 2.06-2.06.94z\"/><path d=\"M17.41 7.96l-1.37-1.37c-.4-.4-.92-.59-1.43-.59-.52 0-1.04.2-1.43.59L10.3 9.45l-7.72 7.72c-.78.78-.78 2.05 0 2.83L4 21.41c.39.39.9.59 1.41.59.51 0 1.02-.2 1.41-.59l7.78-7.78 2.81-2.81c.8-.78.8-2.07 0-2.86zM5.41 20L4 18.59l7.72-7.72 1.47 1.35L5.41 20z\"/>\n",
              "  </svg>\n",
              "      </button>\n",
              "      \n",
              "  <style>\n",
              "    .colab-df-container {\n",
              "      display:flex;\n",
              "      flex-wrap:wrap;\n",
              "      gap: 12px;\n",
              "    }\n",
              "\n",
              "    .colab-df-convert {\n",
              "      background-color: #E8F0FE;\n",
              "      border: none;\n",
              "      border-radius: 50%;\n",
              "      cursor: pointer;\n",
              "      display: none;\n",
              "      fill: #1967D2;\n",
              "      height: 32px;\n",
              "      padding: 0 0 0 0;\n",
              "      width: 32px;\n",
              "    }\n",
              "\n",
              "    .colab-df-convert:hover {\n",
              "      background-color: #E2EBFA;\n",
              "      box-shadow: 0px 1px 2px rgba(60, 64, 67, 0.3), 0px 1px 3px 1px rgba(60, 64, 67, 0.15);\n",
              "      fill: #174EA6;\n",
              "    }\n",
              "\n",
              "    [theme=dark] .colab-df-convert {\n",
              "      background-color: #3B4455;\n",
              "      fill: #D2E3FC;\n",
              "    }\n",
              "\n",
              "    [theme=dark] .colab-df-convert:hover {\n",
              "      background-color: #434B5C;\n",
              "      box-shadow: 0px 1px 3px 1px rgba(0, 0, 0, 0.15);\n",
              "      filter: drop-shadow(0px 1px 2px rgba(0, 0, 0, 0.3));\n",
              "      fill: #FFFFFF;\n",
              "    }\n",
              "  </style>\n",
              "\n",
              "      <script>\n",
              "        const buttonEl =\n",
              "          document.querySelector('#df-28b6b82c-b3d0-43d3-8baf-acb817268447 button.colab-df-convert');\n",
              "        buttonEl.style.display =\n",
              "          google.colab.kernel.accessAllowed ? 'block' : 'none';\n",
              "\n",
              "        async function convertToInteractive(key) {\n",
              "          const element = document.querySelector('#df-28b6b82c-b3d0-43d3-8baf-acb817268447');\n",
              "          const dataTable =\n",
              "            await google.colab.kernel.invokeFunction('convertToInteractive',\n",
              "                                                     [key], {});\n",
              "          if (!dataTable) return;\n",
              "\n",
              "          const docLinkHtml = 'Like what you see? Visit the ' +\n",
              "            '<a target=\"_blank\" href=https://colab.research.google.com/notebooks/data_table.ipynb>data table notebook</a>'\n",
              "            + ' to learn more about interactive tables.';\n",
              "          element.innerHTML = '';\n",
              "          dataTable['output_type'] = 'display_data';\n",
              "          await google.colab.output.renderOutput(dataTable, element);\n",
              "          const docLink = document.createElement('div');\n",
              "          docLink.innerHTML = docLinkHtml;\n",
              "          element.appendChild(docLink);\n",
              "        }\n",
              "      </script>\n",
              "    </div>\n",
              "  </div>\n",
              "  "
            ]
          },
          "metadata": {},
          "execution_count": 39
        }
      ]
    },
    {
      "cell_type": "code",
      "metadata": {
        "colab": {
          "base_uri": "https://localhost:8080/",
          "height": 238
        },
        "id": "FsY4OSQpQGoY",
        "outputId": "68f01e8a-7202-4560-8639-5608eef5ecda"
      },
      "source": [
        "#contagem do número de dados válidos\n",
        "contagem = numpy.arange(1,6,1)\n",
        "contagem\n",
        "selecao['tempo(1/2h)'] = contagem\n",
        "selecao"
      ],
      "execution_count": 40,
      "outputs": [
        {
          "output_type": "execute_result",
          "data": {
            "text/plain": [
              "                     Prec(mm)  Vazao(m3/s)  ED(m3/s)  tempo(1/2h)\n",
              "Data-Hora                                                        \n",
              "2020-05-24 22:00:00      33.8         23.4      15.4            1\n",
              "2020-05-24 22:30:00      55.9         65.8      57.8            2\n",
              "2020-05-24 23:00:00       8.0         51.0      43.0            3\n",
              "2020-05-24 23:30:00       NaN         22.6      14.6            4\n",
              "2020-05-25 00:00:00       NaN         10.0       2.0            5"
            ],
            "text/html": [
              "\n",
              "  <div id=\"df-14a1288c-bfa9-4bab-8cf5-c248bfc4fd7d\">\n",
              "    <div class=\"colab-df-container\">\n",
              "      <div>\n",
              "<style scoped>\n",
              "    .dataframe tbody tr th:only-of-type {\n",
              "        vertical-align: middle;\n",
              "    }\n",
              "\n",
              "    .dataframe tbody tr th {\n",
              "        vertical-align: top;\n",
              "    }\n",
              "\n",
              "    .dataframe thead th {\n",
              "        text-align: right;\n",
              "    }\n",
              "</style>\n",
              "<table border=\"1\" class=\"dataframe\">\n",
              "  <thead>\n",
              "    <tr style=\"text-align: right;\">\n",
              "      <th></th>\n",
              "      <th>Prec(mm)</th>\n",
              "      <th>Vazao(m3/s)</th>\n",
              "      <th>ED(m3/s)</th>\n",
              "      <th>tempo(1/2h)</th>\n",
              "    </tr>\n",
              "    <tr>\n",
              "      <th>Data-Hora</th>\n",
              "      <th></th>\n",
              "      <th></th>\n",
              "      <th></th>\n",
              "      <th></th>\n",
              "    </tr>\n",
              "  </thead>\n",
              "  <tbody>\n",
              "    <tr>\n",
              "      <th>2020-05-24 22:00:00</th>\n",
              "      <td>33.8</td>\n",
              "      <td>23.4</td>\n",
              "      <td>15.4</td>\n",
              "      <td>1</td>\n",
              "    </tr>\n",
              "    <tr>\n",
              "      <th>2020-05-24 22:30:00</th>\n",
              "      <td>55.9</td>\n",
              "      <td>65.8</td>\n",
              "      <td>57.8</td>\n",
              "      <td>2</td>\n",
              "    </tr>\n",
              "    <tr>\n",
              "      <th>2020-05-24 23:00:00</th>\n",
              "      <td>8.0</td>\n",
              "      <td>51.0</td>\n",
              "      <td>43.0</td>\n",
              "      <td>3</td>\n",
              "    </tr>\n",
              "    <tr>\n",
              "      <th>2020-05-24 23:30:00</th>\n",
              "      <td>NaN</td>\n",
              "      <td>22.6</td>\n",
              "      <td>14.6</td>\n",
              "      <td>4</td>\n",
              "    </tr>\n",
              "    <tr>\n",
              "      <th>2020-05-25 00:00:00</th>\n",
              "      <td>NaN</td>\n",
              "      <td>10.0</td>\n",
              "      <td>2.0</td>\n",
              "      <td>5</td>\n",
              "    </tr>\n",
              "  </tbody>\n",
              "</table>\n",
              "</div>\n",
              "      <button class=\"colab-df-convert\" onclick=\"convertToInteractive('df-14a1288c-bfa9-4bab-8cf5-c248bfc4fd7d')\"\n",
              "              title=\"Convert this dataframe to an interactive table.\"\n",
              "              style=\"display:none;\">\n",
              "        \n",
              "  <svg xmlns=\"http://www.w3.org/2000/svg\" height=\"24px\"viewBox=\"0 0 24 24\"\n",
              "       width=\"24px\">\n",
              "    <path d=\"M0 0h24v24H0V0z\" fill=\"none\"/>\n",
              "    <path d=\"M18.56 5.44l.94 2.06.94-2.06 2.06-.94-2.06-.94-.94-2.06-.94 2.06-2.06.94zm-11 1L8.5 8.5l.94-2.06 2.06-.94-2.06-.94L8.5 2.5l-.94 2.06-2.06.94zm10 10l.94 2.06.94-2.06 2.06-.94-2.06-.94-.94-2.06-.94 2.06-2.06.94z\"/><path d=\"M17.41 7.96l-1.37-1.37c-.4-.4-.92-.59-1.43-.59-.52 0-1.04.2-1.43.59L10.3 9.45l-7.72 7.72c-.78.78-.78 2.05 0 2.83L4 21.41c.39.39.9.59 1.41.59.51 0 1.02-.2 1.41-.59l7.78-7.78 2.81-2.81c.8-.78.8-2.07 0-2.86zM5.41 20L4 18.59l7.72-7.72 1.47 1.35L5.41 20z\"/>\n",
              "  </svg>\n",
              "      </button>\n",
              "      \n",
              "  <style>\n",
              "    .colab-df-container {\n",
              "      display:flex;\n",
              "      flex-wrap:wrap;\n",
              "      gap: 12px;\n",
              "    }\n",
              "\n",
              "    .colab-df-convert {\n",
              "      background-color: #E8F0FE;\n",
              "      border: none;\n",
              "      border-radius: 50%;\n",
              "      cursor: pointer;\n",
              "      display: none;\n",
              "      fill: #1967D2;\n",
              "      height: 32px;\n",
              "      padding: 0 0 0 0;\n",
              "      width: 32px;\n",
              "    }\n",
              "\n",
              "    .colab-df-convert:hover {\n",
              "      background-color: #E2EBFA;\n",
              "      box-shadow: 0px 1px 2px rgba(60, 64, 67, 0.3), 0px 1px 3px 1px rgba(60, 64, 67, 0.15);\n",
              "      fill: #174EA6;\n",
              "    }\n",
              "\n",
              "    [theme=dark] .colab-df-convert {\n",
              "      background-color: #3B4455;\n",
              "      fill: #D2E3FC;\n",
              "    }\n",
              "\n",
              "    [theme=dark] .colab-df-convert:hover {\n",
              "      background-color: #434B5C;\n",
              "      box-shadow: 0px 1px 3px 1px rgba(0, 0, 0, 0.15);\n",
              "      filter: drop-shadow(0px 1px 2px rgba(0, 0, 0, 0.3));\n",
              "      fill: #FFFFFF;\n",
              "    }\n",
              "  </style>\n",
              "\n",
              "      <script>\n",
              "        const buttonEl =\n",
              "          document.querySelector('#df-14a1288c-bfa9-4bab-8cf5-c248bfc4fd7d button.colab-df-convert');\n",
              "        buttonEl.style.display =\n",
              "          google.colab.kernel.accessAllowed ? 'block' : 'none';\n",
              "\n",
              "        async function convertToInteractive(key) {\n",
              "          const element = document.querySelector('#df-14a1288c-bfa9-4bab-8cf5-c248bfc4fd7d');\n",
              "          const dataTable =\n",
              "            await google.colab.kernel.invokeFunction('convertToInteractive',\n",
              "                                                     [key], {});\n",
              "          if (!dataTable) return;\n",
              "\n",
              "          const docLinkHtml = 'Like what you see? Visit the ' +\n",
              "            '<a target=\"_blank\" href=https://colab.research.google.com/notebooks/data_table.ipynb>data table notebook</a>'\n",
              "            + ' to learn more about interactive tables.';\n",
              "          element.innerHTML = '';\n",
              "          dataTable['output_type'] = 'display_data';\n",
              "          await google.colab.output.renderOutput(dataTable, element);\n",
              "          const docLink = document.createElement('div');\n",
              "          docLink.innerHTML = docLinkHtml;\n",
              "          element.appendChild(docLink);\n",
              "        }\n",
              "      </script>\n",
              "    </div>\n",
              "  </div>\n",
              "  "
            ]
          },
          "metadata": {},
          "execution_count": 40
        }
      ]
    },
    {
      "cell_type": "markdown",
      "metadata": {
        "id": "n6_PWep5P_jd"
      },
      "source": [
        "3. Cálculo do Volume $V_d$ e altura do Escoamento Superficial $r_d$\n",
        "$$\n",
        "V_{d}=\\sum_{n=1}^{N} Q_{n} \\Delta t\n",
        "$$\n",
        "$$\n",
        "r_{d}=\\frac{V_{d}}{\\text { área da bacia }}\n",
        "$$"
      ]
    },
    {
      "cell_type": "code",
      "metadata": {
        "colab": {
          "base_uri": "https://localhost:8080/"
        },
        "id": "FhM0o8uoPFfX",
        "outputId": "928ed619-f36b-489c-ea41-255b7b79ad2c"
      },
      "source": [
        "N = 5\n",
        "dt = 0.5\n",
        "\n",
        "somaES = selecao['ED(m3/s)'].sum()\n",
        "print(somaES)"
      ],
      "execution_count": 62,
      "outputs": [
        {
          "output_type": "stream",
          "name": "stdout",
          "text": [
            "132.79999999999998\n"
          ]
        }
      ]
    },
    {
      "cell_type": "markdown",
      "metadata": {
        "id": "vldUz9cnQscq"
      },
      "source": [
        "$$\n",
        "\\begin{aligned}\n",
        "V_{d} &=\\sum_{n=1}^{5} Q_{n} \\Delta t \\\\\n",
        "&=132.8 \\, \\mathrm{m}^3\\mathrm{/s}  \\times \\frac{3600}{1} \\frac{\\mathrm{s}}{\\mathrm{h}} \\times \\frac{1}{2} \\mathrm{~h} \\\\\n",
        "&=239040 \\, \\mathrm{m}^3 \\\\\n",
        "r_{d} &=\\frac{V_{d}}{\\text { watershed area }} \\\\\n",
        "&=\\frac{239040 \\mathrm{~m}^{3}}{4 \\times 10^{6} \\mathrm{~m}^{2} }\\\\\n",
        "&=0.05976 \\mathrm{~m} \\\\\n",
        "&=59.8 \\mathrm{~mm}\n",
        "\\end{aligned}\n",
        "$$"
      ]
    },
    {
      "cell_type": "code",
      "metadata": {
        "colab": {
          "base_uri": "https://localhost:8080/"
        },
        "id": "edHVTH65RUbi",
        "outputId": "ea3bd330-e7d3-4608-f99b-cc56e8994d92"
      },
      "source": [
        "Vd = somaES*3600/2\n",
        "print(Vd, 'metros cúbicos')"
      ],
      "execution_count": 43,
      "outputs": [
        {
          "output_type": "stream",
          "name": "stdout",
          "text": [
            "239039.99999999997 metros cúbicos\n"
          ]
        }
      ]
    },
    {
      "cell_type": "code",
      "metadata": {
        "id": "7WYFsfR1RfCe"
      },
      "source": [
        "area = 4 * 10**6 # área bacia (m2)\n",
        "rd = Vd / area"
      ],
      "execution_count": 45,
      "outputs": []
    },
    {
      "cell_type": "code",
      "metadata": {
        "colab": {
          "base_uri": "https://localhost:8080/"
        },
        "id": "9trFYDwXRyaM",
        "outputId": "25a967b8-9ba2-40fc-9048-3735e6a0e86e"
      },
      "source": [
        "print(rd, 'm')"
      ],
      "execution_count": 46,
      "outputs": [
        {
          "output_type": "stream",
          "name": "stdout",
          "text": [
            "0.059759999999999994 m\n"
          ]
        }
      ]
    },
    {
      "cell_type": "code",
      "metadata": {
        "colab": {
          "base_uri": "https://localhost:8080/"
        },
        "id": "pD5WJVDjR1nM",
        "outputId": "efcdc969-9ab4-4ff9-c4eb-1ea45325d091"
      },
      "source": [
        "# convertendo para mm\n",
        "print(rd*1000, 'mm')"
      ],
      "execution_count": 47,
      "outputs": [
        {
          "output_type": "stream",
          "name": "stdout",
          "text": [
            "59.75999999999999 mm\n"
          ]
        }
      ]
    },
    {
      "cell_type": "markdown",
      "metadata": {
        "id": "7OBGtmNZUACj"
      },
      "source": [
        "Arredondando, adotaremos rd = 59.8 mm"
      ]
    },
    {
      "cell_type": "markdown",
      "metadata": {
        "id": "hUhdJh7-SNkH"
      },
      "source": [
        "4. Estimativa das abstrações $\\phi$ (Infiltração e Armazenamento Superficial)\n",
        "$$\n",
        "r_{d}=\\sum_{m=1}^{M}\\left(R_{m}-\\phi \\Delta t\\right)\n",
        "$$"
      ]
    },
    {
      "cell_type": "markdown",
      "metadata": {
        "id": "11IEmAwWTIMr"
      },
      "source": [
        "Na equação acima temos duas incógnitas: $M$ e $\\phi$.\n",
        "\n",
        "* $M$: número de pulsos de precipitação total que constituem a precipitação efetiva\n",
        "* $\\phi$: abstrações (Infiltração e Armazenamento Superficial)\n",
        "\n",
        "Para estimar o $\\phi$ vamos fazer M variar de 1, 2, 3... e calculamos o $\\phi$ (que deve ser um valor positivo). No nosso caso M pode variar de 1 a 5."
      ]
    },
    {
      "cell_type": "markdown",
      "metadata": {
        "id": "MLTEy-95T2bb"
      },
      "source": [
        "* se M = 1 o maior pulso de precipitação é 55.9:\n",
        "\n",
        "$$\n",
        "\\begin{aligned}\n",
        "r_{d} &=\\sum_{m=1}^{M}\\left(R_{m}-\\phi \\Delta t\\right) \\\\\n",
        "59.8 &=(55.9-\\phi \\times 0.5) \\\\\n",
        "\\phi &=-7.8 \\, \\mathrm{~mm} / \\mathrm{h}\n",
        "\\end{aligned}\n",
        "$$\n",
        "\n",
        "Esse valor para $\\phi$ é físicamente impossível\n"
      ]
    },
    {
      "cell_type": "markdown",
      "metadata": {
        "id": "Yddnpo34UX1O"
      },
      "source": [
        "* se M = 2 o maior pulso de precipitação (durante dois intervalos de meia hora) é entre 22h e 23h = 33.2 + 55.9:\n",
        "\n",
        "$$\n",
        "\\begin{aligned}\n",
        "r_{d} &=\\sum_{m=1}^{M}\\left(R_{m}-\\phi \\Delta t\\right) \\\\\n",
        "59.8 &=(33.2 + 55.9-\\phi \\times 2 \\times 0.5) \\\\\n",
        "\\phi &= 29.9 \\, \\mathrm{~mm} / \\mathrm{h}\n",
        "\\end{aligned}\n",
        "$$\n",
        "\n",
        "Esse valor para $\\phi$ é satisfatório pois ele fornece:\n",
        "\n",
        "$$\n",
        "\\text { Abstrações } = \\phi \\Delta t= 14.95 \\text { mm }\n",
        "$$\n",
        "\n",
        "e $\\phi \\Delta t$ é maior do que todos os pulsos de precipitação fora dos 2 pulsos que contribuem para o escoamento direto"
      ]
    },
    {
      "cell_type": "markdown",
      "metadata": {
        "id": "rbzEStX2WW-c"
      },
      "source": [
        "5. Cálculo e gráfico do hietograma de precipitação efetiva\n"
      ]
    },
    {
      "cell_type": "code",
      "source": [
        "29.9/2"
      ],
      "metadata": {
        "colab": {
          "base_uri": "https://localhost:8080/"
        },
        "id": "F9JkoLfE8w4V",
        "outputId": "a1c94c04-aae6-471d-c15d-62d7a0507879"
      },
      "execution_count": 50,
      "outputs": [
        {
          "output_type": "execute_result",
          "data": {
            "text/plain": [
              "14.95"
            ]
          },
          "metadata": {},
          "execution_count": 50
        }
      ]
    },
    {
      "cell_type": "code",
      "metadata": {
        "id": "CK6fViqkXZDp"
      },
      "source": [
        "Abstracoes = 14.95"
      ],
      "execution_count": 51,
      "outputs": []
    },
    {
      "cell_type": "code",
      "metadata": {
        "id": "nOs5RvypSBAa",
        "colab": {
          "base_uri": "https://localhost:8080/"
        },
        "outputId": "2f36ad7d-901b-47d6-e8b7-9a33c7246ecd"
      },
      "source": [
        "selecao['PrecEfet(mm)'] = selecao['Prec(mm)'] - Abstracoes\n",
        "selecao['PrecEfet(mm)']"
      ],
      "execution_count": 52,
      "outputs": [
        {
          "output_type": "execute_result",
          "data": {
            "text/plain": [
              "Data-Hora\n",
              "2020-05-24 22:00:00    18.85\n",
              "2020-05-24 22:30:00    40.95\n",
              "2020-05-24 23:00:00    -6.95\n",
              "2020-05-24 23:30:00      NaN\n",
              "2020-05-25 00:00:00      NaN\n",
              "Name: PrecEfet(mm), dtype: float64"
            ]
          },
          "metadata": {},
          "execution_count": 52
        }
      ]
    },
    {
      "cell_type": "code",
      "source": [
        "# selecionando os valores maiores do que zero:\n",
        "selecao_nova = selecao[selecao['PrecEfet(mm)'] > 0]"
      ],
      "metadata": {
        "id": "dkbW-FrzlSAJ"
      },
      "execution_count": 54,
      "outputs": []
    },
    {
      "cell_type": "code",
      "metadata": {
        "colab": {
          "base_uri": "https://localhost:8080/",
          "height": 143
        },
        "id": "LyQ-q6RRWjgn",
        "outputId": "b8ebe147-88dc-48e6-83b4-9e3dfcd9e04a"
      },
      "source": [
        "selecao_nova['abstracoes(mm)'] = Abstracoes\n",
        "selecao_nova"
      ],
      "execution_count": 67,
      "outputs": [
        {
          "output_type": "execute_result",
          "data": {
            "text/plain": [
              "                     Prec(mm)  Vazao(m3/s)  ED(m3/s)  tempo(1/2h)  \\\n",
              "Data-Hora                                                           \n",
              "2020-05-24 22:00:00      33.8         23.4      15.4            1   \n",
              "2020-05-24 22:30:00      55.9         65.8      57.8            2   \n",
              "\n",
              "                     PrecEfet(mm)  abstracoes(mm)  \n",
              "Data-Hora                                          \n",
              "2020-05-24 22:00:00         18.85           14.95  \n",
              "2020-05-24 22:30:00         40.95           14.95  "
            ],
            "text/html": [
              "\n",
              "  <div id=\"df-8ffe802b-1715-4d1d-9f2c-7bea0f2232a9\">\n",
              "    <div class=\"colab-df-container\">\n",
              "      <div>\n",
              "<style scoped>\n",
              "    .dataframe tbody tr th:only-of-type {\n",
              "        vertical-align: middle;\n",
              "    }\n",
              "\n",
              "    .dataframe tbody tr th {\n",
              "        vertical-align: top;\n",
              "    }\n",
              "\n",
              "    .dataframe thead th {\n",
              "        text-align: right;\n",
              "    }\n",
              "</style>\n",
              "<table border=\"1\" class=\"dataframe\">\n",
              "  <thead>\n",
              "    <tr style=\"text-align: right;\">\n",
              "      <th></th>\n",
              "      <th>Prec(mm)</th>\n",
              "      <th>Vazao(m3/s)</th>\n",
              "      <th>ED(m3/s)</th>\n",
              "      <th>tempo(1/2h)</th>\n",
              "      <th>PrecEfet(mm)</th>\n",
              "      <th>abstracoes(mm)</th>\n",
              "    </tr>\n",
              "    <tr>\n",
              "      <th>Data-Hora</th>\n",
              "      <th></th>\n",
              "      <th></th>\n",
              "      <th></th>\n",
              "      <th></th>\n",
              "      <th></th>\n",
              "      <th></th>\n",
              "    </tr>\n",
              "  </thead>\n",
              "  <tbody>\n",
              "    <tr>\n",
              "      <th>2020-05-24 22:00:00</th>\n",
              "      <td>33.8</td>\n",
              "      <td>23.4</td>\n",
              "      <td>15.4</td>\n",
              "      <td>1</td>\n",
              "      <td>18.85</td>\n",
              "      <td>14.95</td>\n",
              "    </tr>\n",
              "    <tr>\n",
              "      <th>2020-05-24 22:30:00</th>\n",
              "      <td>55.9</td>\n",
              "      <td>65.8</td>\n",
              "      <td>57.8</td>\n",
              "      <td>2</td>\n",
              "      <td>40.95</td>\n",
              "      <td>14.95</td>\n",
              "    </tr>\n",
              "  </tbody>\n",
              "</table>\n",
              "</div>\n",
              "      <button class=\"colab-df-convert\" onclick=\"convertToInteractive('df-8ffe802b-1715-4d1d-9f2c-7bea0f2232a9')\"\n",
              "              title=\"Convert this dataframe to an interactive table.\"\n",
              "              style=\"display:none;\">\n",
              "        \n",
              "  <svg xmlns=\"http://www.w3.org/2000/svg\" height=\"24px\"viewBox=\"0 0 24 24\"\n",
              "       width=\"24px\">\n",
              "    <path d=\"M0 0h24v24H0V0z\" fill=\"none\"/>\n",
              "    <path d=\"M18.56 5.44l.94 2.06.94-2.06 2.06-.94-2.06-.94-.94-2.06-.94 2.06-2.06.94zm-11 1L8.5 8.5l.94-2.06 2.06-.94-2.06-.94L8.5 2.5l-.94 2.06-2.06.94zm10 10l.94 2.06.94-2.06 2.06-.94-2.06-.94-.94-2.06-.94 2.06-2.06.94z\"/><path d=\"M17.41 7.96l-1.37-1.37c-.4-.4-.92-.59-1.43-.59-.52 0-1.04.2-1.43.59L10.3 9.45l-7.72 7.72c-.78.78-.78 2.05 0 2.83L4 21.41c.39.39.9.59 1.41.59.51 0 1.02-.2 1.41-.59l7.78-7.78 2.81-2.81c.8-.78.8-2.07 0-2.86zM5.41 20L4 18.59l7.72-7.72 1.47 1.35L5.41 20z\"/>\n",
              "  </svg>\n",
              "      </button>\n",
              "      \n",
              "  <style>\n",
              "    .colab-df-container {\n",
              "      display:flex;\n",
              "      flex-wrap:wrap;\n",
              "      gap: 12px;\n",
              "    }\n",
              "\n",
              "    .colab-df-convert {\n",
              "      background-color: #E8F0FE;\n",
              "      border: none;\n",
              "      border-radius: 50%;\n",
              "      cursor: pointer;\n",
              "      display: none;\n",
              "      fill: #1967D2;\n",
              "      height: 32px;\n",
              "      padding: 0 0 0 0;\n",
              "      width: 32px;\n",
              "    }\n",
              "\n",
              "    .colab-df-convert:hover {\n",
              "      background-color: #E2EBFA;\n",
              "      box-shadow: 0px 1px 2px rgba(60, 64, 67, 0.3), 0px 1px 3px 1px rgba(60, 64, 67, 0.15);\n",
              "      fill: #174EA6;\n",
              "    }\n",
              "\n",
              "    [theme=dark] .colab-df-convert {\n",
              "      background-color: #3B4455;\n",
              "      fill: #D2E3FC;\n",
              "    }\n",
              "\n",
              "    [theme=dark] .colab-df-convert:hover {\n",
              "      background-color: #434B5C;\n",
              "      box-shadow: 0px 1px 3px 1px rgba(0, 0, 0, 0.15);\n",
              "      filter: drop-shadow(0px 1px 2px rgba(0, 0, 0, 0.3));\n",
              "      fill: #FFFFFF;\n",
              "    }\n",
              "  </style>\n",
              "\n",
              "      <script>\n",
              "        const buttonEl =\n",
              "          document.querySelector('#df-8ffe802b-1715-4d1d-9f2c-7bea0f2232a9 button.colab-df-convert');\n",
              "        buttonEl.style.display =\n",
              "          google.colab.kernel.accessAllowed ? 'block' : 'none';\n",
              "\n",
              "        async function convertToInteractive(key) {\n",
              "          const element = document.querySelector('#df-8ffe802b-1715-4d1d-9f2c-7bea0f2232a9');\n",
              "          const dataTable =\n",
              "            await google.colab.kernel.invokeFunction('convertToInteractive',\n",
              "                                                     [key], {});\n",
              "          if (!dataTable) return;\n",
              "\n",
              "          const docLinkHtml = 'Like what you see? Visit the ' +\n",
              "            '<a target=\"_blank\" href=https://colab.research.google.com/notebooks/data_table.ipynb>data table notebook</a>'\n",
              "            + ' to learn more about interactive tables.';\n",
              "          element.innerHTML = '';\n",
              "          dataTable['output_type'] = 'display_data';\n",
              "          await google.colab.output.renderOutput(dataTable, element);\n",
              "          const docLink = document.createElement('div');\n",
              "          docLink.innerHTML = docLinkHtml;\n",
              "          element.appendChild(docLink);\n",
              "        }\n",
              "      </script>\n",
              "    </div>\n",
              "  </div>\n",
              "  "
            ]
          },
          "metadata": {},
          "execution_count": 67
        }
      ]
    },
    {
      "cell_type": "code",
      "metadata": {
        "id": "oTRPpkyZYzDo"
      },
      "source": [
        "dados['linha'] = Abstracoes"
      ],
      "execution_count": 59,
      "outputs": []
    },
    {
      "cell_type": "code",
      "metadata": {
        "colab": {
          "base_uri": "https://localhost:8080/",
          "height": 386
        },
        "id": "2GsjJ_61WkKm",
        "outputId": "43ce6913-ebe6-4aab-bbbc-7e3f787eab85"
      },
      "source": [
        "plt.gcf().autofmt_xdate()        \n",
        "fig, ax1 = plt.subplots(figsize=(10,4))\n",
        "ax1.plot(dados['Vazao(m3/s)'],color='green', marker='o', linestyle='dashed',linewidth=2.5, markersize=0.1, label = r'Vazão (m$^3$/s)')\n",
        "ax1.plot(base,color='black', marker='o', linestyle='dashed',linewidth=2.5, markersize=0.2, label = 'Escoamento de base')\n",
        "ax1.plot(dados['Vazao(m3/s)'][2:3],color='green', marker='o',linewidth=0, markersize=8, label = 'A: Início curva ascenção')\n",
        "ax1.plot(dados['Vazao(m3/s)'][7:8],color='blue', marker='o',linewidth=0, markersize=8, label = 'B: Final escoamento direto')\n",
        "ax1.set_ylim(0,120)\n",
        "ax1.margins(0.0)\n",
        "ax1.tick_params(axis='both', labelsize=8) #increase font size for ticks\n",
        "ax1.set_ylabel(r'Vazão (m$^3$/s)', fontsize=10) #y label\n",
        "leg = plt.legend();\n",
        "plt.legend(bbox_to_anchor=(1.1, 0.75), loc='upper left', borderaxespad=0.,frameon=False)\n",
        "\n",
        "ax2 = ax1.twinx()\n",
        "ax2.margins(0.0)\n",
        "ax2.bar(dados.index,dados['Prec(mm)'], width=0.015, label = 'Precipitação (mm)')\n",
        "ax2.bar(selecao_nova.index,selecao_nova['PrecEfet(mm)'], width=0.01, bottom = selecao_nova['abstracoes(mm)'],  label = 'Precipitação Efetiva(mm)')\n",
        "ax2.plot(dados['linha'],color='darkblue', marker='o', linestyle='dashed',linewidth=0.5, markersize=0.1, label = 'Abstrações')\n",
        "ax2.tick_params(axis='both', labelsize=8)\n",
        "ax2.set_ylabel('Precipitação (mm)', fontsize=10) #y label\n",
        "ax2.set_ylim(200,0)\n",
        "\n",
        "plt.tick_params(axis='both', labelsize=8) #increase font size for ticks\n",
        "plt.xticks(rotation=45)\n",
        "leg = plt.legend();\n",
        "plt.legend(bbox_to_anchor=(1.1, 1), loc='upper left', borderaxespad=0.,frameon=False)\n",
        "\n",
        "plt.savefig('chuva-vazao.png', dpi = 300, bbox_inches='tight')\n",
        "plt.show()"
      ],
      "execution_count": 76,
      "outputs": [
        {
          "output_type": "display_data",
          "data": {
            "text/plain": [
              "<Figure size 640x480 with 0 Axes>"
            ]
          },
          "metadata": {}
        },
        {
          "output_type": "display_data",
          "data": {
            "text/plain": [
              "<Figure size 1000x400 with 2 Axes>"
            ],
            "image/png": "[encoded data removed]"
          },
          "metadata": {}
        }
      ]
    },
    {
      "cell_type": "code",
      "metadata": {
        "id": "e6Lo7ENxXFxh"
      },
      "source": [],
      "execution_count": null,
      "outputs": []
    }
  ]
}