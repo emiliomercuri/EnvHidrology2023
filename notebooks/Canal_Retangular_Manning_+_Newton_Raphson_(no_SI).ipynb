{
  "nbformat": 4,
  "nbformat_minor": 0,
  "metadata": {
    "colab": {
      "provenance": [],
      "authorship_tag": "ABX9TyMafE2NhrUr1y7K9yp88dxa",
      "include_colab_link": true
    },
    "kernelspec": {
      "name": "python3",
      "display_name": "Python 3"
    },
    "language_info": {
      "name": "python"
    }
  },
  "cells": [
    {
      "cell_type": "markdown",
      "metadata": {
        "id": "view-in-github",
        "colab_type": "text"
      },
      "source": [
        "<a href=\"https://colab.research.google.com/github/emiliomercuri/hidrologia/blob/main/notebooks/Canal_Retangular_Manning_%2B_Newton_Raphson_(no_SI).ipynb\" target=\"_parent\"><img src=\"https://colab.research.google.com/assets/colab-badge.svg\" alt=\"Open In Colab\"/></a>"
      ]
    },
    {
      "cell_type": "markdown",
      "metadata": {
        "id": "W06WMx5tw8mT"
      },
      "source": [
        "### Exemplo\n",
        "\n",
        "Calcular $y$ para canal retangular com $B = 2$ m.\n",
        "\n",
        "Dados\n",
        "* $n = 0.015$\n",
        "* $S_o = 0.025$\n",
        "* $Q = 9.26$ m$^3$/s"
      ]
    },
    {
      "cell_type": "code",
      "source": [
        "Lc = 1000 # m\n",
        "q0 = 0.00926 # m3/(s.m)\n",
        "Q = Lc*q0\n",
        "Q"
      ],
      "metadata": {
        "colab": {
          "base_uri": "https://localhost:8080/"
        },
        "id": "qlJyVnfGzF-z",
        "outputId": "d20031d2-15f9-4004-9768-dc31cac2d8bf"
      },
      "execution_count": 1,
      "outputs": [
        {
          "output_type": "execute_result",
          "data": {
            "text/plain": [
              "9.26"
            ]
          },
          "metadata": {},
          "execution_count": 1
        }
      ]
    },
    {
      "cell_type": "code",
      "metadata": {
        "id": "Z94hQSTSw4qD"
      },
      "source": [
        "n = 0.015\n",
        "S0 = 0.025"
      ],
      "execution_count": 2,
      "outputs": []
    },
    {
      "cell_type": "code",
      "metadata": {
        "id": "ttRA_P5oxfcm"
      },
      "source": [
        "# chute inicial \n",
        "y = 1.0 # m\n",
        "tol = 0.0001"
      ],
      "execution_count": 3,
      "outputs": []
    },
    {
      "cell_type": "code",
      "metadata": {
        "id": "mkNviKBTyHjF"
      },
      "source": [
        "def vazao(y):\n",
        "  n = 0.015\n",
        "  S0 = 0.025\n",
        "  return (1.49/n)*(S0**(0.5))*((2*y)**(5/3))/((2+2*y)**(2/3))"
      ],
      "execution_count": 4,
      "outputs": []
    },
    {
      "cell_type": "code",
      "metadata": {
        "id": "YbJFM9TGylbT"
      },
      "source": [
        "def y_novo(y,Q):\n",
        "  return y - (1-9.26/Q)*(y*(1+y))/(1.667+y)"
      ],
      "execution_count": 5,
      "outputs": []
    },
    {
      "cell_type": "code",
      "metadata": {
        "id": "o9LCxmjLzKet"
      },
      "source": [
        "def erro(Q):\n",
        "  return 9.26 - Q"
      ],
      "execution_count": 6,
      "outputs": []
    },
    {
      "cell_type": "code",
      "metadata": {
        "colab": {
          "base_uri": "https://localhost:8080/"
        },
        "id": "eftey0dG0cZs",
        "outputId": "8f20aed3-e09b-422f-f193-8049adbf284e"
      },
      "source": [
        "Q = vazao(1)\n",
        "print(Q)"
      ],
      "execution_count": 7,
      "outputs": [
        {
          "output_type": "stream",
          "name": "stdout",
          "text": [
            "19.78829360863696\n"
          ]
        }
      ]
    },
    {
      "cell_type": "code",
      "metadata": {
        "id": "zryjMYf5ze1G"
      },
      "source": [
        "e = erro(vazao(y))"
      ],
      "execution_count": 8,
      "outputs": []
    },
    {
      "cell_type": "code",
      "metadata": {
        "colab": {
          "base_uri": "https://localhost:8080/"
        },
        "id": "lISd67s6xoNV",
        "outputId": "35de836e-12f8-4fe4-9c03-3ff483f3cf70"
      },
      "source": [
        "i = 0\n",
        "while abs(e) > tol:\n",
        "  y = y_novo(y,Q)\n",
        "  Q = vazao(y)\n",
        "  e = erro(Q)\n",
        "  i += 1\n",
        "  print(i, y,Q,e)"
      ],
      "execution_count": 9,
      "outputs": [
        {
          "output_type": "stream",
          "name": "stdout",
          "text": [
            "1 0.6010149506337974 9.824419011626821 -0.5644190116268213\n",
            "2 0.5766407990928298 9.26364947531236 -0.0036494753123594847\n",
            "3 0.5764811622554205 9.260000700886325 -7.008863249780006e-07\n"
          ]
        }
      ]
    },
    {
      "cell_type": "code",
      "metadata": {
        "colab": {
          "base_uri": "https://localhost:8080/"
        },
        "id": "4BYBaqScz49r",
        "outputId": "6964aaea-883e-4f83-82b6-a47a3714a6d7"
      },
      "source": [
        "print(\"A altura do escoamento é: \", y, \"m\")"
      ],
      "execution_count": 10,
      "outputs": [
        {
          "output_type": "stream",
          "name": "stdout",
          "text": [
            "A altura do escoamento é:  0.5764811622554205 m\n"
          ]
        }
      ]
    },
    {
      "cell_type": "code",
      "metadata": {
        "id": "fB7O1MsL1LPs"
      },
      "source": [],
      "execution_count": null,
      "outputs": []
    }
  ]
}