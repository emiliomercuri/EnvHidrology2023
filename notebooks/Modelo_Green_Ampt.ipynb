{
  "nbformat": 4,
  "nbformat_minor": 0,
  "metadata": {
    "colab": {
      "provenance": [],
      "authorship_tag": "ABX9TyOycriGWnng9ct/Frj1+I/p",
      "include_colab_link": true
    },
    "kernelspec": {
      "name": "python3",
      "display_name": "Python 3"
    },
    "language_info": {
      "name": "python"
    }
  },
  "cells": [
    {
      "cell_type": "markdown",
      "metadata": {
        "id": "view-in-github",
        "colab_type": "text"
      },
      "source": [
        "<a href=\"https://colab.research.google.com/github/emiliomercuri/hidrologia/blob/main/notebooks/Modelo_Green_Ampt.ipynb\" target=\"_parent\"><img src=\"https://colab.research.google.com/assets/colab-badge.svg\" alt=\"Open In Colab\"/></a>"
      ]
    },
    {
      "cell_type": "markdown",
      "metadata": {
        "id": "s8viE3GkovM-"
      },
      "source": [
        "## Exemplo da Aplicação do Modelo de Green-Ampt\n",
        "\n"
      ]
    },
    {
      "cell_type": "markdown",
      "metadata": {
        "id": "Oz6E-IYXo1w1"
      },
      "source": [
        "Considere um solo Franco Siltoso com saturação efetiva de 30\\% ($s_e = 30\\%$)\n",
        "\n",
        "<p align=\"center\">\n",
        "  <img src=\"https://www.dropbox.com/s/n5amddjxck2gtpc/Tabela2.png?dl=1\"  width=\"800\" />\n",
        "</p>\n",
        "\n"
      ]
    },
    {
      "cell_type": "markdown",
      "metadata": {
        "id": "ONEekxK_p2n1"
      },
      "source": [
        "Das informações dadas (tipo do solo) e da tabela acima, temos que:\n",
        "\n",
        "* $s_e = 30\\%$\n",
        "* $\\eta = 0.501$ \n",
        "* $\\theta_e = 0.486$\n",
        "* $\\psi = 16.68$ cm\n",
        "* $K = 0.65$ cm/h"
      ]
    },
    {
      "cell_type": "markdown",
      "metadata": {
        "id": "Z_LTbzV0qrtg"
      },
      "source": [
        "#### **Determine**: a taxa de infiltração $f$ e a infiltração acumulada $F$ após 1 hora de infiltração no solo mencionado."
      ]
    },
    {
      "cell_type": "markdown",
      "metadata": {
        "id": "TVqGQdT5q-tt"
      },
      "source": [
        "Equações estudadas em aula:\n",
        "\n",
        "$$\n",
        "\\Delta \\theta=\\left(1-s_{e}\\right) \\theta_{e} \\quad \\quad s_{e}=\\frac{\\theta-\\theta_{r}}{\\eta-\\theta_{r}} \\quad \\quad \\Delta \\theta=\\eta-\\theta_{i}\n",
        "$$\n",
        "\n",
        "Modelo de Green-Ampt\n",
        "$$\n",
        "f=K\\left(\\frac{\\psi \\Delta \\theta}{F}+1\\right) \\quad \\quad F-\\psi \\Delta \\theta \\ln \\left(1+\\frac{F}{\\psi \\Delta \\theta}\\right)=K t\n",
        "$$\n"
      ]
    },
    {
      "cell_type": "markdown",
      "metadata": {
        "id": "axfHD2m0r8pz"
      },
      "source": [
        "**Solução**: Resolver iterativamente o **modelo de Green-Ampt** para a Infiltração Acumulada $F(t)$ utilizando o **método de substituições sucessivas.**\n",
        "\n",
        "$$\n",
        "F = K t + \\psi \\Delta \\theta \\ln \\left(1+\\frac{F}{\\psi \\Delta \\theta}\\right)\n",
        "$$\n",
        "\n",
        "Já conhecemos:\n",
        "\n",
        "$$\n",
        "\\Delta \\theta=\\left(1-s_{e}\\right) \\theta_{e} = (1-0.3)(0.486) = 0.3402\n",
        "$$\n",
        "\n",
        "E o termo $\\psi \\Delta \\theta$:\n",
        "\n",
        "$$\n",
        "\\psi \\Delta \\theta = 5.674536\n",
        "$$\n",
        "\n",
        "Para $t = 1$ hora a equação fica:\n",
        "\n",
        "$$\n",
        "F = 0.65 + 5.674536 \\ln \\left(1+\\frac{F}{5.674536}\\right)\n",
        "$$\n",
        "\n"
      ]
    },
    {
      "cell_type": "code",
      "metadata": {
        "id": "RCACJ0G5thxw"
      },
      "source": [
        "import numpy"
      ],
      "execution_count": null,
      "outputs": []
    },
    {
      "cell_type": "code",
      "metadata": {
        "id": "fCzxyzKttkGe"
      },
      "source": [
        "numpy.log?"
      ],
      "execution_count": null,
      "outputs": []
    },
    {
      "cell_type": "code",
      "metadata": {
        "id": "vTLXaGNeoq07"
      },
      "source": [
        "## Definição de função para cálculo de F\n",
        "def funcao(F):\n",
        "  return 0.65 + 5.674536*numpy.log(1+F/5.674536)"
      ],
      "execution_count": null,
      "outputs": []
    },
    {
      "cell_type": "code",
      "metadata": {
        "colab": {
          "base_uri": "https://localhost:8080/"
        },
        "id": "moUvevAKtuft",
        "outputId": "1153e36a-3df8-4a06-ea7d-bd28709afb22"
      },
      "source": [
        "tolerancia = 10**(-6)\n",
        "erro = 100\n",
        "\n",
        "# chute inicial: F = K*t\n",
        "F = 0.65\n",
        "\n",
        "i = 0\n",
        "while erro > tolerancia:\n",
        "  F_novo = funcao(F)\n",
        "  erro = abs(F_novo-F)\n",
        "  print(i, F_novo)\n",
        "  F = F_novo\n",
        "  i += 1\n"
      ],
      "execution_count": null,
      "outputs": [
        {
          "output_type": "stream",
          "name": "stdout",
          "text": [
            "0 1.2653913670011807\n",
            "1 1.7922983438787963\n",
            "2 2.2075598561393894\n",
            "3 2.5146811416698487\n",
            "4 2.7315872506443513\n",
            "5 2.879931495648853\n",
            "6 2.9791976400493545\n",
            "7 3.044665907612381\n",
            "8 3.0874340165127876\n",
            "9 3.1151998503900744\n",
            "10 3.1331534734206925\n",
            "11 3.144732271306316\n",
            "12 3.1521872520058225\n",
            "13 3.156981945329756\n",
            "14 3.160063527491899\n",
            "15 3.1620431983641546\n",
            "16 3.163314614816225\n",
            "17 3.164131014385203\n",
            "18 3.1646551774409613\n",
            "19 3.164991686773525\n",
            "20 3.1652077130972502\n",
            "21 3.1653463895306007\n",
            "22 3.1654354100120115\n",
            "23 3.1654925541413963\n",
            "24 3.1655292358631204\n",
            "25 3.1655527823163165\n",
            "26 3.165567897025859\n",
            "27 3.1655775992915514\n",
            "28 3.1655838272529397\n",
            "29 3.165587825027206\n",
            "30 3.1655903912264547\n",
            "31 3.1655920384870813\n",
            "32 3.1655930958745486\n",
            "33 3.165593774618438\n"
          ]
        }
      ]
    },
    {
      "cell_type": "code",
      "metadata": {
        "colab": {
          "base_uri": "https://localhost:8080/"
        },
        "id": "1eyeP2l-vuiL",
        "outputId": "8a53bd8c-0d6a-41d3-cbcd-ac246c329efb"
      },
      "source": [
        "print(F, 'cm')"
      ],
      "execution_count": null,
      "outputs": [
        {
          "output_type": "stream",
          "name": "stdout",
          "text": [
            "3.165593774618438 cm\n"
          ]
        }
      ]
    },
    {
      "cell_type": "code",
      "metadata": {
        "id": "J_Wcr9opvd-I"
      },
      "source": [
        "delta_theta = 0.3402\n",
        "psi = 16.68 # cm\n",
        "K = 0.65 # cm/h"
      ],
      "execution_count": null,
      "outputs": []
    },
    {
      "cell_type": "code",
      "metadata": {
        "colab": {
          "base_uri": "https://localhost:8080/"
        },
        "id": "gLNccAlKvUdL",
        "outputId": "54cbb3a3-ff32-4a73-a0bd-be6fcdbd9fa2"
      },
      "source": [
        "# Taxa de infiltração\n",
        "f = K*(psi*delta_theta/F + 1)\n",
        "print(f, 'cm/h')"
      ],
      "execution_count": null,
      "outputs": [
        {
          "output_type": "stream",
          "name": "stdout",
          "text": [
            "1.8151679471869644 cm/h\n"
          ]
        }
      ]
    },
    {
      "cell_type": "code",
      "metadata": {
        "id": "Car21FKbqwFt"
      },
      "source": [],
      "execution_count": null,
      "outputs": []
    }
  ]
}